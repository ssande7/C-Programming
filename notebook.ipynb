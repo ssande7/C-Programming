{
 "cells": [
  {
   "cell_type": "raw",
   "metadata": {},
   "source": [
    "######################################################################\n",
    "# This material is prepared for a training workshop that is conducted \n",
    "# based on job executions on Gadi, a cluster hosted at NCI, Australia. \n",
    "# Refactoring is most likely needed before running on a different \n",
    "# machine.\n",
    "#\n",
    "# Stephen Sanderson 2023\n",
    "######################################################################"
   ]
  },
  {
   "cell_type": "markdown",
   "metadata": {},
   "source": [
    "# Programming in C"
   ]
  },
  {
   "cell_type": "code",
   "execution_count": null,
   "metadata": {},
   "outputs": [],
   "source": [
    "import os\n",
    "# the jupyter notebook is launched from your $HOME, change the working directory provided a username directory is created under /scratch/vp91\n",
    "os.chdir(os.path.expandvars(\"/scratch/vp91/$USER/C-Programming/\"))"
   ]
  },
  {
   "cell_type": "markdown",
   "metadata": {},
   "source": [
    "## 0. Hello, world!\n",
    "Our first example ([hello_world.c](./hello_world.c)), printing \"Hello, world!\" to the console. \n",
    "\n",
    "You can edit the code to print out anything you like. You can also use this file as a scratchpad to test out other language features. Try setting some variables and printing different things depending on their values to help familiarise yourself with what to expect from your code. \n",
    "\n",
    "Run the next cell to compile the program, and the one after that to run it."
   ]
  },
  {
   "cell_type": "code",
   "execution_count": null,
   "metadata": {},
   "outputs": [],
   "source": [
    "!gcc hello_world.c -o hello_world"
   ]
  },
  {
   "cell_type": "code",
   "execution_count": null,
   "metadata": {},
   "outputs": [],
   "source": [
    "!./hello_world"
   ]
  },
  {
   "cell_type": "markdown",
   "metadata": {
    "tags": []
   },
   "source": [
    "## 1. `list_print`\n",
    "\n",
    "Try adding a `list_print` function to [list_print.c](./list_print.c) and use it in the `main` function to print out the list info."
   ]
  },
  {
   "cell_type": "code",
   "execution_count": null,
   "metadata": {},
   "outputs": [],
   "source": [
    "!gcc -Wall -Wextra -Wpedantic list_print.c -o list_print"
   ]
  },
  {
   "cell_type": "code",
   "execution_count": null,
   "metadata": {},
   "outputs": [],
   "source": [
    "!./list_print"
   ]
  },
  {
   "cell_type": "markdown",
   "metadata": {
    "jp-MarkdownHeadingCollapsed": true,
    "tags": []
   },
   "source": [
    "#### Hint:"
   ]
  },
  {
   "cell_type": "markdown",
   "metadata": {},
   "source": [
    "The function should have the signature `void list_print(List);`"
   ]
  },
  {
   "cell_type": "markdown",
   "metadata": {
    "tags": []
   },
   "source": [
    "## 2. `list_print_contents`\n",
    "\n",
    "Try implementing the `list_print_contents` function in [list_print_contents.c](./list_print_contents.c).\n",
    "\n",
    "HINT: Try using `%g` or `%f` as the format specifier in printf for floating point values. You can look up the details [here](https://en.cppreference.com/w/c/io/fprintf) to see how you can tweak the formatting.\n",
    "\n",
    "You can also take this opportunity to try out some control flow by making the code print only the squares of even numbers (for example)."
   ]
  },
  {
   "cell_type": "code",
   "execution_count": null,
   "metadata": {},
   "outputs": [],
   "source": [
    "!gcc -Wall -Wextra -Wpedantic list_print_contents.c -o list_print_contents"
   ]
  },
  {
   "cell_type": "code",
   "execution_count": null,
   "metadata": {},
   "outputs": [],
   "source": [
    "!./list_print_contents"
   ]
  },
  {
   "cell_type": "markdown",
   "metadata": {},
   "source": [
    "## 3. Calculating the Fibonacci Sequence \n",
    "Using [list.h](./list.h) and [list.c](./list.c), write a program that prints the first N fibonacci numbers, where N is an input argument."
   ]
  },
  {
   "cell_type": "code",
   "execution_count": null,
   "metadata": {},
   "outputs": [],
   "source": [
    "!gcc -Wall -Wextra -Wpedantic list.c -c"
   ]
  },
  {
   "cell_type": "code",
   "execution_count": null,
   "metadata": {},
   "outputs": [],
   "source": [
    "!gcc -Wall -Wextra -Wpedantic solutions/fibonacci.c list.o -o fibonacci"
   ]
  },
  {
   "cell_type": "code",
   "execution_count": null,
   "metadata": {},
   "outputs": [],
   "source": [
    "!./fibonacci 10"
   ]
  },
  {
   "cell_type": "markdown",
   "metadata": {},
   "source": [
    "### 3.1 Extension\n",
    "As an extension, try editing [fibonacci_extended.c](fibonacci_extended.c) to use [test_fibonacci.txt](./test_fibonacci.txt) as the input. Read the contents of the file, and print the first N Fibonacci numbers for each N in the file (given by each line). For example, if the file contains:\n",
    "```\n",
    "3\n",
    "5\n",
    "1\n",
    "```\n",
    "your program's output should look like:\n",
    "```\n",
    "$ ./fibonacci_extended test_fibonacci.txt\n",
    "3: [1, 1, 2]\n",
    "5: [1, 1, 2, 3, 5]\n",
    "1: [1]\n",
    "$\n",
    "```\n",
    "\n",
    "For convenience, try putting your code that calculates the Fibonacci numbers for a given `N` into a function, with that function in its own `.c` file so that it can be `#include`d in both [fibonacci.c](./fibonacci.c) and [fibonacci_extended.c](./fibonacci_extended.c). In this case, you will need to edit the compile command below."
   ]
  },
  {
   "cell_type": "code",
   "execution_count": null,
   "metadata": {},
   "outputs": [],
   "source": [
    "!gcc -Wall -Wextra -Wpedantic fibonacci_extended.c list.o -o fibonacci_extended"
   ]
  },
  {
   "cell_type": "code",
   "execution_count": null,
   "metadata": {},
   "outputs": [],
   "source": [
    "!./fibonacci_extended test_fibonacci.txt"
   ]
  }
 ],
 "metadata": {
  "interpreter": {
   "hash": "767d51c1340bd893661ea55ea3124f6de3c7a262a8b4abca0554b478b1e2ff90"
  },
  "kernelspec": {
   "display_name": "Python 3 (ipykernel)",
   "language": "python",
   "name": "python3"
  },
  "language_info": {
   "codemirror_mode": {
    "name": "ipython",
    "version": 3
   },
   "file_extension": ".py",
   "mimetype": "text/x-python",
   "name": "python",
   "nbconvert_exporter": "python",
   "pygments_lexer": "ipython3",
   "version": "3.9.2"
  }
 },
 "nbformat": 4,
 "nbformat_minor": 4
}
