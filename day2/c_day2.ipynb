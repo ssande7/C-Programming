{
 "cells": [
  {
   "cell_type": "raw",
   "metadata": {},
   "source": [
    "######################################################################\n",
    "# This material is prepared for a training workshop that is conducted \n",
    "# based on job executions on Gadi, a cluster hosted at NCI, Australia. \n",
    "# Refactoring is most likely needed before running on a different \n",
    "# machine.\n",
    "#\n",
    "# Stephen Sanderson 2022\n",
    "######################################################################"
   ]
  },
  {
   "cell_type": "markdown",
   "metadata": {},
   "source": [
    "# Programming in C - Day 2"
   ]
  },
  {
   "cell_type": "code",
   "execution_count": null,
   "metadata": {},
   "outputs": [],
   "source": [
    "import os\n",
    "# the jupyter notebook is launched from your $HOME, change the working directory provided a username directory is created under /scratch/vp91\n",
    "os.chdir(os.path.expandvars(\"/scratch/vp91/$USER/C-Programming/day2\"))"
   ]
  },
  {
   "cell_type": "markdown",
   "metadata": {},
   "source": [
    "## 1. The Preprocessor\n",
    "The preprocessor is an integral part of the C compiler that is used to include headers, conditionally compile sections of code, define compile-time constants and macros, and much more.\n",
    "\n",
    "You can see the results of the preprocessor on a given source file by compiling with the `-E` flag. This tells the compiler to *only* run the preprocessor step.\n",
    "\n",
    "The file [preprocessor.c](preprocessor.c) has some example preprocessor directives. Run the blocks below to see what the preprocessor does. Try adding extra compile-time definitions with the -D flag to change the result. Note that comments are stripped by the preprocessor, so you will need to open the original `.c` file to see them.\n",
    "\n",
    "Source code:"
   ]
  },
  {
   "cell_type": "code",
   "execution_count": null,
   "metadata": {},
   "outputs": [],
   "source": [
    "!cat preprocessor.c"
   ]
  },
  {
   "cell_type": "markdown",
   "metadata": {},
   "source": [
    "Preprocessed:"
   ]
  },
  {
   "cell_type": "code",
   "execution_count": null,
   "metadata": {},
   "outputs": [],
   "source": [
    "!gcc -E preprocessor.c -o preprocessor.i && cat preprocessor.i"
   ]
  },
  {
   "cell_type": "markdown",
   "metadata": {
    "tags": []
   },
   "source": [
    "### 1.1 Fibonacci Sequence - Compile-Time Algorithm Selection"
   ]
  },
  {
   "cell_type": "code",
   "execution_count": null,
   "metadata": {},
   "outputs": [],
   "source": [
    "import os # Change working directory to day2/fib_preprocessor\n",
    "os.chdir(os.path.expandvars(\"/scratch/vp91/$USER/C-Programming/day2/fib_preprocessor\"))"
   ]
  },
  {
   "cell_type": "markdown",
   "metadata": {
    "tags": []
   },
   "source": [
    "Yesterday you implemented a Fibonacci sequence algorithm, and saw that there were multiple options. Try adding preprocessor directives to [fib_preprocessor/fibonacci.c](fib_preprocessor/fibonacci.c) so that one of the four different algorithms can be selected at compile time.\n",
    "\n",
    "As an extension, try setting a default option if no compile-time selection is made.\n",
    "\n",
    "You can modify the block below to compile with the options you set up. To make sure the correct algorithm is being called, try having each function print out which method it's using."
   ]
  },
  {
   "cell_type": "code",
   "execution_count": null,
   "metadata": {},
   "outputs": [],
   "source": [
    "!gcc -Wall -Wextra -Wpedantic *.c -o fib && ./fib"
   ]
  },
  {
   "cell_type": "markdown",
   "metadata": {},
   "source": [
    "## 2 User-Defined Datatypes\n",
    "User-defined datatypes are another core feature of C. `struct`s allow for packets of related variables to be stored and passed around together, while `union`s allow multiple datatypes to be stored in the same memory location, and `enum`s enable convenient labelling of options."
   ]
  },
  {
   "cell_type": "code",
   "execution_count": null,
   "metadata": {},
   "outputs": [],
   "source": [
    "import os # Change working directory to day2/fib_runtime\n",
    "os.chdir(os.path.expandvars(\"/scratch/vp91/$USER/C-programming/day2/fib_runtime\"))"
   ]
  },
  {
   "cell_type": "markdown",
   "metadata": {},
   "source": [
    "### 2.1 Fibonacci Sequence - Runtime Algorithm Selection\n",
    "Try modifying [fib_runtime/fibonacci.h](fib_runtime/fibonacci.h), [fib_runtime/fibonacci.c](fib_runtime/fibonacci.c) and [fib_runtime/main.c](fib_runtime/main.c) to take an extra runtime argument specifying which algorithm to use. We want the Fibonacci code to be self-contained, so all algorithms should be called through a single `print_fibonacci()` function which takes an integer as the upper-bound on the output, and an `enum` specifying the algorithm to use. Look up the `strcmp()` standard library function from `string.h` for a convenient way of comparing strings."
   ]
  },
  {
   "cell_type": "code",
   "execution_count": null,
   "metadata": {},
   "outputs": [],
   "source": [
    "!gcc -Wall -Wextra -Wpedantic fib_runtime/*.c -o fib_runtime/fib && fib_runtime/fib 10 while"
   ]
  },
  {
   "cell_type": "markdown",
   "metadata": {},
   "source": [
    "As an extension, try allowing multiple algorithms to be specified and execute each of them in the order they were given.\n",
    "\n",
    "For example, `fib 3 while do for while for recursive` would output:\n",
    "```\n",
    "while: 1 1 2 3\n",
    "do: 1 1 2 3\n",
    "for: 1 1 2 3\n",
    "while: 1 1 2 3\n",
    "for: 1 1 2 3\n",
    "recursive: 1 1 2 3\n",
    "```"
   ]
  },
  {
   "cell_type": "code",
   "execution_count": null,
   "metadata": {},
   "outputs": [],
   "source": [
    "!gcc -Wall -Wextra -Wpedantic fib_runtime/*.c -o fib_runtime/fib && fib_runtime/fib 10 while do for while for recursive"
   ]
  },
  {
   "cell_type": "markdown",
   "metadata": {},
   "source": [
    "## 3 Fibonacci Sequence - Build System"
   ]
  },
  {
   "cell_type": "code",
   "execution_count": null,
   "metadata": {},
   "outputs": [],
   "source": [
    "import os # Change working directory to day2/fib_preprocessor\n",
    "os.chdir(os.path.expandvars(\"/scratch/vp91/$USER/C-Programming/day2/fib_preprocessor\"))"
   ]
  },
  {
   "cell_type": "markdown",
   "metadata": {},
   "source": [
    "Try setting up a `Makefile` or `CMakeLists.txt` to allow easy choice of configuration for your compile-time algorithm selection code.\n",
    "\n",
    "If you're using make, then try setting it up to work with the blocks below:"
   ]
  },
  {
   "cell_type": "code",
   "execution_count": null,
   "metadata": {},
   "outputs": [],
   "source": [
    "!make while && ./fib_while 10"
   ]
  },
  {
   "cell_type": "code",
   "execution_count": null,
   "metadata": {},
   "outputs": [],
   "source": [
    "!make do && ./fib_do 10"
   ]
  },
  {
   "cell_type": "code",
   "execution_count": null,
   "metadata": {},
   "outputs": [],
   "source": [
    "!make for && ./fib_while 10"
   ]
  },
  {
   "cell_type": "code",
   "execution_count": null,
   "metadata": {},
   "outputs": [],
   "source": [
    "!make recursive && ./fib_recursive 10"
   ]
  },
  {
   "cell_type": "markdown",
   "metadata": {},
   "source": [
    "Or if you're using cmake:"
   ]
  },
  {
   "cell_type": "code",
   "execution_count": null,
   "metadata": {},
   "outputs": [],
   "source": [
    "!cmake . -B build"
   ]
  },
  {
   "cell_type": "code",
   "execution_count": null,
   "metadata": {},
   "outputs": [],
   "source": [
    "!cmake --build build --target fib_while && ./build/fib_while 10"
   ]
  },
  {
   "cell_type": "code",
   "execution_count": null,
   "metadata": {},
   "outputs": [],
   "source": [
    "!cmake --build build --target fib_do && ./build/fib_do 10"
   ]
  },
  {
   "cell_type": "code",
   "execution_count": null,
   "metadata": {},
   "outputs": [],
   "source": [
    "!cmake --build build --target fib_for && ./build/fib_for 10"
   ]
  },
  {
   "cell_type": "code",
   "execution_count": null,
   "metadata": {},
   "outputs": [],
   "source": [
    "!cmake --build build --target fib_recursive && ./build/fib_recursive 10"
   ]
  },
  {
   "cell_type": "markdown",
   "metadata": {},
   "source": [
    "## 4. Tic Tac Toe"
   ]
  },
  {
   "cell_type": "code",
   "execution_count": null,
   "metadata": {},
   "outputs": [],
   "source": [
    "import os # Change working directory to day2\n",
    "os.chdir(os.path.expandvars(\"/scratch/vp91/$USER/C-Programming/day2\"))"
   ]
  },
  {
   "cell_type": "markdown",
   "metadata": {},
   "source": [
    "Try implementing your own tic tac toe game in [tictactoe.c](tictactoe.c).\n",
    "\n",
    "Your code should allow players to take turns making a move, and detect when one player has won. See the slides for example input and output.\n",
    "\n",
    "Hint: Look up the `scanf()` standard library function as a way to read user input while your code is running."
   ]
  },
  {
   "cell_type": "code",
   "execution_count": null,
   "metadata": {},
   "outputs": [],
   "source": [
    "!gcc -Wall -Wextra -Wpedantic tictactoe.c -o tictactoe && ./tictactoe"
   ]
  },
  {
   "cell_type": "markdown",
   "metadata": {},
   "source": [
    "Once you have it working, consider these extension ideas:\n",
    "* Allow players to choose to play again after completing a round. Using a `struct`, keep track of how many wins, losses, and draws each player has and display this information after each round.\n",
    "* Allow players to choose the board size at runtime. For example, `./tictactoe 5` would play on a 5x5 board. Note that although it is possible to declare variable length arrays on the stack, you should consider using the `malloc()` function to allocate on the heap instead in case the array is too large for the stack. A convenient way to do this for a square board of size `m` is with `int (*board)[m][m] = malloc(sizeof *board);` This declares `board` as a pointer to an m x m 2D array of integers, and then allocates enough heap memory to store an array of that size and sets `board` to point to that memory. Note that the type of `*board` is `int[m][m]`, so `sizeof *board` returns the size of m^2 `int`s. Don't forget to call `free()` when you're finished with the memory you allocated!"
   ]
  }
 ],
 "metadata": {
  "interpreter": {
   "hash": "767d51c1340bd893661ea55ea3124f6de3c7a262a8b4abca0554b478b1e2ff90"
  },
  "kernelspec": {
   "display_name": "Python 3 (ipykernel)",
   "language": "python",
   "name": "python3"
  },
  "language_info": {
   "codemirror_mode": {
    "name": "ipython",
    "version": 3
   },
   "file_extension": ".py",
   "mimetype": "text/x-python",
   "name": "python",
   "nbconvert_exporter": "python",
   "pygments_lexer": "ipython3",
   "version": "3.10.9"
  }
 },
 "nbformat": 4,
 "nbformat_minor": 4
}
