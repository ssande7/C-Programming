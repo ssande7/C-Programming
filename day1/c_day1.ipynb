{
 "cells": [
  {
   "cell_type": "raw",
   "metadata": {},
   "source": [
    "######################################################################\n",
    "# This material is prepared for a training workshop that is conducted \n",
    "# based on job executions on Gadi, a cluster hosted at NCI, Australia. \n",
    "# Refactoring is most likely needed before running on a different \n",
    "# machine.\n",
    "#\n",
    "# Stephen Sanderson 2022\n",
    "######################################################################"
   ]
  },
  {
   "cell_type": "markdown",
   "metadata": {},
   "source": [
    "# Programming in C - Day 1"
   ]
  },
  {
   "cell_type": "code",
   "execution_count": null,
   "metadata": {},
   "outputs": [],
   "source": [
    "import os\n",
    "# the jupyter notebook is launched from your $HOME, change the working directory provided a username directory is created under /scratch/vp91\n",
    "os.chdir(os.path.expandvars(\"/scratch/vp91/$USER/C-Programming/day1\"))"
   ]
  },
  {
   "cell_type": "markdown",
   "metadata": {},
   "source": [
    "## 0. Hello, world!\n",
    "Our first example ([hello_world.c](./hello_world.c)), printing \"Hello, world!\" to the console. \n",
    "\n",
    "You can edit the code to print out anything you like. You can also use this file as a scratchpad to test out other language features. Try setting some variables and printing different things depending on their values to help familiarise yourself with what to expect from your code. \n",
    "\n",
    "Run the next cell to compile the program, and the one after that to run it."
   ]
  },
  {
   "cell_type": "code",
   "execution_count": null,
   "metadata": {},
   "outputs": [],
   "source": [
    "!gcc hello_world.c -o hello_world"
   ]
  },
  {
   "cell_type": "code",
   "execution_count": null,
   "metadata": {},
   "outputs": [],
   "source": [
    "!./hello_world"
   ]
  },
  {
   "cell_type": "markdown",
   "metadata": {
    "tags": []
   },
   "source": [
    "## 1. Fibonacci Sequence\n",
    "\n",
    "The goal is to write a small Fibonacci program that takes a single positive integer as input, and outputs all Fibonacci numbers less than or equal to that number.\n",
    "\n",
    "For example, if the input is 10, the output should be 1 1 2 3 5 8. \n",
    "\n",
    "### 1.1 Validating Input\n",
    "\n",
    "The first step is to read and validate the user input. \n",
    "\n",
    "Try editing [fibonacci_input-validation.c](./fibonacci_input-validation.c) so that it checks whether the user input is a positive integer, and exits with a non-zero error code if not.\n",
    "\n",
    "Look up the standard library functions in `ctype.h` for ideas on how to check whether a character is a valid digit: [https://en.cppreference.com/w/c/header](https://en.cppreference.com/w/c/header).\n",
    "\n",
    "Also note that C strings are terminated with the null character, `\\0`, so you can check for this to know when you've reached the end of the input argument.\n",
    "\n",
    "You can compile your changes by executing the block below, and the block after that has a few test cases to try.\n",
    "\n",
    "The Fibonacci sequence isn't being calculated yet, so don't expect it to be printed. We're just checking the return code of the program for now to make sure it returns an error on invalid input.\n"
   ]
  },
  {
   "cell_type": "code",
   "execution_count": null,
   "metadata": {},
   "outputs": [],
   "source": [
    "!gcc -Wall -Wextra -Wpedantic fibonacci_input-validation.c -o fib_input_valid"
   ]
  },
  {
   "cell_type": "code",
   "execution_count": null,
   "metadata": {},
   "outputs": [],
   "source": [
    "!./fib_input_valid 8 && echo Test passed! || echo Test failed."
   ]
  },
  {
   "cell_type": "code",
   "execution_count": null,
   "metadata": {},
   "outputs": [],
   "source": [
    "!./fib_input_valid 10 && echo Test passed! || echo Test failed."
   ]
  },
  {
   "cell_type": "code",
   "execution_count": null,
   "metadata": {},
   "outputs": [],
   "source": [
    "!./fib_input_valid 1000 && echo Test passed! || echo Test failed."
   ]
  },
  {
   "cell_type": "code",
   "execution_count": null,
   "metadata": {},
   "outputs": [],
   "source": [
    "!./fib_input_valid asdf && echo Test failed. || echo Test passed!"
   ]
  },
  {
   "cell_type": "code",
   "execution_count": null,
   "metadata": {},
   "outputs": [],
   "source": [
    "!./fib_input_valid -10 && echo Test failed. || echo Test passed!"
   ]
  },
  {
   "cell_type": "code",
   "execution_count": null,
   "metadata": {},
   "outputs": [],
   "source": [
    "!./fib_input_valid 1.1 && echo Test failed. || echo Test passed!"
   ]
  },
  {
   "cell_type": "code",
   "execution_count": null,
   "metadata": {},
   "outputs": [],
   "source": [
    "!./fib_input_valid 100a && echo Test failed. || echo Test passed!"
   ]
  },
  {
   "cell_type": "markdown",
   "metadata": {},
   "source": [
    "### 1.2 Calculating the Fibonacci Sequence \n",
    "Add a `print_fibonacci` function to [fibonacci_implemented.c](./fibonacci_implemented.c) that takes an integer as input, and prints the Fibonacci numbers up to and including that number. Try using either a `for` loop, a `while` loop, or a `do` loop.\n",
    "\n",
    "You can compile and run your changes with the block below. Try changing the input value to check that the results are correct in all cases. Edge cases like 0 (nothing should be printed) and 1 (\"1 1\" should be printed) are particularly important to test - you may need some `if` statements to handle these properly."
   ]
  },
  {
   "cell_type": "code",
   "execution_count": null,
   "metadata": {},
   "outputs": [],
   "source": [
    "!gcc -Wall -Wextra -Wpedantic fibonacci_implemented.c -o fib && ./fib 10"
   ]
  },
  {
   "cell_type": "markdown",
   "metadata": {},
   "source": [
    "\n",
    "As an extension, try re-writing the function without any loops by having it call itself. This is called recursion, and will be covered in more detail next."
   ]
  }
 ],
 "metadata": {
  "interpreter": {
   "hash": "767d51c1340bd893661ea55ea3124f6de3c7a262a8b4abca0554b478b1e2ff90"
  },
  "kernelspec": {
   "display_name": "Python 3 (ipykernel)",
   "language": "python",
   "name": "python3"
  },
  "language_info": {
   "codemirror_mode": {
    "name": "ipython",
    "version": 3
   },
   "file_extension": ".py",
   "mimetype": "text/x-python",
   "name": "python",
   "nbconvert_exporter": "python",
   "pygments_lexer": "ipython3",
   "version": "3.10.9"
  }
 },
 "nbformat": 4,
 "nbformat_minor": 4
}
